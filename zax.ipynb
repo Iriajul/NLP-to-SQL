{
 "cells": [
  {
   "cell_type": "code",
   "execution_count": 54,
   "id": "6dc17b79",
   "metadata": {},
   "outputs": [],
   "source": [
    "import warnings\n",
    "# Suppress all warnings\n",
    "warnings.filterwarnings(\"ignore\")\n",
    "\n",
    "from typing import Annotated, Literal\n",
    "from langchain_core.messages import AIMessage\n",
    "from langchain_core.pydantic_v1 import BaseModel, Field\n",
    "from typing_extensions import TypedDict\n",
    "from langgraph.graph import END, StateGraph, START\n",
    "from langgraph.graph.message import AnyMessage, add_messages\n",
    "from typing import Any\n",
    "from langchain_core.messages import ToolMessage\n",
    "from langchain_core.runnables import RunnableLambda, RunnableWithFallbacks\n",
    "from langgraph.prebuilt import ToolNode\n",
    "from langchain_community.utilities import SQLDatabase"
   ]
  },
  {
   "cell_type": "code",
   "execution_count": 55,
   "id": "abf1df86",
   "metadata": {},
   "outputs": [
    {
     "data": {
      "text/plain": [
       "True"
      ]
     },
     "execution_count": 55,
     "metadata": {},
     "output_type": "execute_result"
    }
   ],
   "source": [
    "import os\n",
    "from langchain_community.utilities import SQLDatabase\n",
    "from dotenv import load_dotenv\n",
    "\n",
    "load_dotenv()\n"
   ]
  },
  {
   "cell_type": "code",
   "execution_count": 56,
   "id": "221f9ecf",
   "metadata": {},
   "outputs": [],
   "source": [
    "db = SQLDatabase.from_uri(\n",
    "    os.getenv(\"DATABASE_URL\"),  # Load your DB connection string from .env\n",
    "    schema=\"info\"               # Limit to your 'info' schema only\n",
    ")"
   ]
  },
  {
   "cell_type": "code",
   "execution_count": 57,
   "id": "4ed922f9",
   "metadata": {},
   "outputs": [
    {
     "data": {
      "text/plain": [
       "'postgresql'"
      ]
     },
     "execution_count": 57,
     "metadata": {},
     "output_type": "execute_result"
    }
   ],
   "source": [
    "db.dialect"
   ]
  },
  {
   "cell_type": "code",
   "execution_count": 58,
   "id": "b66e4b4d",
   "metadata": {},
   "outputs": [
    {
     "data": {
      "text/plain": [
       "['customers',\n",
       " 'order_details',\n",
       " 'orders',\n",
       " 'products',\n",
       " 'sales_representative',\n",
       " 'suppliers']"
      ]
     },
     "execution_count": 58,
     "metadata": {},
     "output_type": "execute_result"
    }
   ],
   "source": [
    "db.get_usable_table_names()"
   ]
  },
  {
   "cell_type": "code",
   "execution_count": 59,
   "id": "cb50e8d3",
   "metadata": {},
   "outputs": [],
   "source": [
    "from langchain_groq import ChatGroq\n",
    "llm=ChatGroq(model=\"llama3-70b-8192\", temperature=0.0)"
   ]
  },
  {
   "cell_type": "code",
   "execution_count": 60,
   "id": "75222016",
   "metadata": {},
   "outputs": [
    {
     "data": {
      "text/plain": [
       "AIMessage(content=\"Hello! I'm just a language model, I don't have feelings or emotions like humans do. However, I'm here to help you with any questions or topics you'd like to discuss. How can I assist you today?\", additional_kwargs={}, response_metadata={'token_usage': {'completion_tokens': 47, 'prompt_tokens': 15, 'total_tokens': 62, 'completion_time': 0.134285714, 'prompt_time': 0.000555474, 'queue_time': 0.206457811, 'total_time': 0.134841188}, 'model_name': 'llama3-70b-8192', 'system_fingerprint': 'fp_dd4ae1c591', 'finish_reason': 'stop', 'logprobs': None}, id='run--39e743cd-34ed-4df9-b720-de48e607ca16-0', usage_metadata={'input_tokens': 15, 'output_tokens': 47, 'total_tokens': 62})"
      ]
     },
     "execution_count": 60,
     "metadata": {},
     "output_type": "execute_result"
    }
   ],
   "source": [
    "llm.invoke(\"hello how are you?\")"
   ]
  },
  {
   "cell_type": "code",
   "execution_count": 61,
   "id": "78139e04",
   "metadata": {},
   "outputs": [],
   "source": [
    "from langchain_community.agent_toolkits import SQLDatabaseToolkit"
   ]
  },
  {
   "cell_type": "code",
   "execution_count": 62,
   "id": "da17125f",
   "metadata": {},
   "outputs": [],
   "source": [
    "toolkit=SQLDatabaseToolkit(db=db, llm=llm)"
   ]
  },
  {
   "cell_type": "code",
   "execution_count": 63,
   "id": "408a0a5a",
   "metadata": {},
   "outputs": [],
   "source": [
    "tools=toolkit.get_tools()"
   ]
  },
  {
   "cell_type": "code",
   "execution_count": 64,
   "id": "d387bd68",
   "metadata": {},
   "outputs": [
    {
     "data": {
      "text/plain": [
       "[QuerySQLDatabaseTool(description=\"Input to this tool is a detailed and correct SQL query, output is a result from the database. If the query is not correct, an error message will be returned. If an error is returned, rewrite the query, check the query, and try again. If you encounter an issue with Unknown column 'xxxx' in 'field list', use sql_db_schema to query the correct table fields.\", db=<langchain_community.utilities.sql_database.SQLDatabase object at 0x000002A69B3F8750>),\n",
       " InfoSQLDatabaseTool(description='Input to this tool is a comma-separated list of tables, output is the schema and sample rows for those tables. Be sure that the tables actually exist by calling sql_db_list_tables first! Example Input: table1, table2, table3', db=<langchain_community.utilities.sql_database.SQLDatabase object at 0x000002A69B3F8750>),\n",
       " ListSQLDatabaseTool(db=<langchain_community.utilities.sql_database.SQLDatabase object at 0x000002A69B3F8750>),\n",
       " QuerySQLCheckerTool(description='Use this tool to double check if your query is correct before executing it. Always use this tool before executing a query with sql_db_query!', db=<langchain_community.utilities.sql_database.SQLDatabase object at 0x000002A69B3F8750>, llm=ChatGroq(client=<groq.resources.chat.completions.Completions object at 0x000002A69B436B50>, async_client=<groq.resources.chat.completions.AsyncCompletions object at 0x000002A69B45B650>, model_name='llama3-70b-8192', temperature=1e-08, model_kwargs={}, groq_api_key=SecretStr('**********')), llm_chain=LLMChain(verbose=False, prompt=PromptTemplate(input_variables=['dialect', 'query'], input_types={}, partial_variables={}, template='\\n{query}\\nDouble check the {dialect} query above for common mistakes, including:\\n- Using NOT IN with NULL values\\n- Using UNION when UNION ALL should have been used\\n- Using BETWEEN for exclusive ranges\\n- Data type mismatch in predicates\\n- Properly quoting identifiers\\n- Using the correct number of arguments for functions\\n- Casting to the correct data type\\n- Using the proper columns for joins\\n\\nIf there are any of the above mistakes, rewrite the query. If there are no mistakes, just reproduce the original query.\\n\\nOutput the final SQL query only.\\n\\nSQL Query: '), llm=ChatGroq(client=<groq.resources.chat.completions.Completions object at 0x000002A69B436B50>, async_client=<groq.resources.chat.completions.AsyncCompletions object at 0x000002A69B45B650>, model_name='llama3-70b-8192', temperature=1e-08, model_kwargs={}, groq_api_key=SecretStr('**********')), output_parser=StrOutputParser(), llm_kwargs={}))]"
      ]
     },
     "execution_count": 64,
     "metadata": {},
     "output_type": "execute_result"
    }
   ],
   "source": [
    "tools"
   ]
  },
  {
   "cell_type": "code",
   "execution_count": 65,
   "id": "97cfebfd",
   "metadata": {},
   "outputs": [
    {
     "data": {
      "text/plain": [
       "AIMessage(content=\"I'm just a language model, I don't have feelings or emotions like humans do, so I don't have a sense of well-being or not. I'm simply here to assist and provide information to help with your queries! How can I help you today?\", additional_kwargs={}, response_metadata={'token_usage': {'completion_tokens': 54, 'prompt_tokens': 14, 'total_tokens': 68, 'completion_time': 0.154285714, 'prompt_time': 0.000173549, 'queue_time': 0.203271125, 'total_time': 0.154459263}, 'model_name': 'llama3-70b-8192', 'system_fingerprint': 'fp_dd4ae1c591', 'finish_reason': 'stop', 'logprobs': None}, id='run--311586ce-def3-4ea7-8549-2b8369b199bc-0', usage_metadata={'input_tokens': 14, 'output_tokens': 54, 'total_tokens': 68})"
      ]
     },
     "execution_count": 65,
     "metadata": {},
     "output_type": "execute_result"
    }
   ],
   "source": [
    "llm.invoke(\"how are you?\")"
   ]
  },
  {
   "cell_type": "code",
   "execution_count": 66,
   "id": "d5890af6",
   "metadata": {},
   "outputs": [],
   "source": [
    "from langchain_community.agent_toolkits import SQLDatabaseToolkit "
   ]
  },
  {
   "cell_type": "code",
   "execution_count": 67,
   "id": "f8ecaafa",
   "metadata": {},
   "outputs": [],
   "source": [
    "toolkit=SQLDatabaseToolkit(db=db, llm=llm)"
   ]
  },
  {
   "cell_type": "code",
   "execution_count": 68,
   "id": "a89e4e72",
   "metadata": {},
   "outputs": [],
   "source": [
    "tools=toolkit.get_tools()"
   ]
  },
  {
   "cell_type": "code",
   "execution_count": 69,
   "id": "662ca4c4",
   "metadata": {},
   "outputs": [
    {
     "data": {
      "text/plain": [
       "[QuerySQLDatabaseTool(description=\"Input to this tool is a detailed and correct SQL query, output is a result from the database. If the query is not correct, an error message will be returned. If an error is returned, rewrite the query, check the query, and try again. If you encounter an issue with Unknown column 'xxxx' in 'field list', use sql_db_schema to query the correct table fields.\", db=<langchain_community.utilities.sql_database.SQLDatabase object at 0x000002A69B3F8750>),\n",
       " InfoSQLDatabaseTool(description='Input to this tool is a comma-separated list of tables, output is the schema and sample rows for those tables. Be sure that the tables actually exist by calling sql_db_list_tables first! Example Input: table1, table2, table3', db=<langchain_community.utilities.sql_database.SQLDatabase object at 0x000002A69B3F8750>),\n",
       " ListSQLDatabaseTool(db=<langchain_community.utilities.sql_database.SQLDatabase object at 0x000002A69B3F8750>),\n",
       " QuerySQLCheckerTool(description='Use this tool to double check if your query is correct before executing it. Always use this tool before executing a query with sql_db_query!', db=<langchain_community.utilities.sql_database.SQLDatabase object at 0x000002A69B3F8750>, llm=ChatGroq(client=<groq.resources.chat.completions.Completions object at 0x000002A69B436B50>, async_client=<groq.resources.chat.completions.AsyncCompletions object at 0x000002A69B45B650>, model_name='llama3-70b-8192', temperature=1e-08, model_kwargs={}, groq_api_key=SecretStr('**********')), llm_chain=LLMChain(verbose=False, prompt=PromptTemplate(input_variables=['dialect', 'query'], input_types={}, partial_variables={}, template='\\n{query}\\nDouble check the {dialect} query above for common mistakes, including:\\n- Using NOT IN with NULL values\\n- Using UNION when UNION ALL should have been used\\n- Using BETWEEN for exclusive ranges\\n- Data type mismatch in predicates\\n- Properly quoting identifiers\\n- Using the correct number of arguments for functions\\n- Casting to the correct data type\\n- Using the proper columns for joins\\n\\nIf there are any of the above mistakes, rewrite the query. If there are no mistakes, just reproduce the original query.\\n\\nOutput the final SQL query only.\\n\\nSQL Query: '), llm=ChatGroq(client=<groq.resources.chat.completions.Completions object at 0x000002A69B436B50>, async_client=<groq.resources.chat.completions.AsyncCompletions object at 0x000002A69B45B650>, model_name='llama3-70b-8192', temperature=1e-08, model_kwargs={}, groq_api_key=SecretStr('**********')), output_parser=StrOutputParser(), llm_kwargs={}))]"
      ]
     },
     "execution_count": 69,
     "metadata": {},
     "output_type": "execute_result"
    }
   ],
   "source": [
    "tools"
   ]
  },
  {
   "cell_type": "code",
   "execution_count": 70,
   "id": "52a3a03e",
   "metadata": {},
   "outputs": [
    {
     "name": "stdout",
     "output_type": "stream",
     "text": [
      "sql_db_query\n",
      "sql_db_schema\n",
      "sql_db_list_tables\n",
      "sql_db_query_checker\n"
     ]
    }
   ],
   "source": [
    "for tool in tools:\n",
    "    print(tool.name)"
   ]
  },
  {
   "cell_type": "code",
   "execution_count": 71,
   "id": "f0991893",
   "metadata": {},
   "outputs": [],
   "source": [
    "list_tables_tool = next((tool for tool in tools if tool.name == \"sql_db_list_tables\"),None)"
   ]
  },
  {
   "cell_type": "code",
   "execution_count": 72,
   "id": "ad22e147",
   "metadata": {},
   "outputs": [
    {
     "data": {
      "text/plain": [
       "ListSQLDatabaseTool(db=<langchain_community.utilities.sql_database.SQLDatabase object at 0x000002A69B3F8750>)"
      ]
     },
     "execution_count": 72,
     "metadata": {},
     "output_type": "execute_result"
    }
   ],
   "source": [
    "list_tables_tool"
   ]
  },
  {
   "cell_type": "code",
   "execution_count": 73,
   "id": "237295ec",
   "metadata": {},
   "outputs": [
    {
     "data": {
      "text/plain": [
       "'customers, order_details, orders, products, sales_representative, suppliers'"
      ]
     },
     "execution_count": 73,
     "metadata": {},
     "output_type": "execute_result"
    }
   ],
   "source": [
    "list_tables_tool.invoke(\"\")"
   ]
  },
  {
   "cell_type": "code",
   "execution_count": 74,
   "id": "7a27cb9e",
   "metadata": {},
   "outputs": [],
   "source": [
    "get_schema_tool = next((tool for tool in tools if tool.name == \"sql_db_schema\"),None)"
   ]
  },
  {
   "cell_type": "code",
   "execution_count": 75,
   "id": "08ddd49f",
   "metadata": {},
   "outputs": [
    {
     "data": {
      "text/plain": [
       "InfoSQLDatabaseTool(description='Input to this tool is a comma-separated list of tables, output is the schema and sample rows for those tables. Be sure that the tables actually exist by calling sql_db_list_tables first! Example Input: table1, table2, table3', db=<langchain_community.utilities.sql_database.SQLDatabase object at 0x000002A69B3F8750>)"
      ]
     },
     "execution_count": 75,
     "metadata": {},
     "output_type": "execute_result"
    }
   ],
   "source": [
    "get_schema_tool"
   ]
  },
  {
   "cell_type": "code",
   "execution_count": 76,
   "id": "5eb1dddc",
   "metadata": {},
   "outputs": [
    {
     "name": "stdout",
     "output_type": "stream",
     "text": [
      "\n",
      "CREATE TABLE info.sales_representative (\n",
      "\tsales_rep_id VARCHAR NOT NULL, \n",
      "\tfirst_name VARCHAR NOT NULL, \n",
      "\tlast_name VARCHAR NOT NULL, \n",
      "\temail VARCHAR NOT NULL, \n",
      "\tphone VARCHAR NOT NULL, \n",
      "\tregion VARCHAR NOT NULL, \n",
      "\tterritory VARCHAR NOT NULL, \n",
      "\thire_date DATE NOT NULL, \n",
      "\tcommission_rate REAL NOT NULL, \n",
      "\tannual_target INTEGER NOT NULL, \n",
      "\tdepartment VARCHAR NOT NULL, \n",
      "\tstatus VARCHAR NOT NULL, \n",
      "\tCONSTRAINT pk_sales_representative PRIMARY KEY (sales_rep_id)\n",
      ")\n",
      "\n",
      "/*\n",
      "3 rows from sales_representative table:\n",
      "sales_rep_id\tfirst_name\tlast_name\temail\tphone\tregion\tterritory\thire_date\tcommission_rate\tannual_target\tdepartment\tstatus\n",
      "SR001\tMichael\tClark\tmichael.clark@company.com\t+1-451-880-2028\tAsia Pacific\tSouth Korea\t2020-07-27\t2.7\t1500000\tEnterprise\tOn Leave\n",
      "SR002\tKimberly\tLewis\tkimberly.lewis@company.com\t+1-911-852-3462\tNorth America\tSoutheast\t2022-04-19\t4.06\t1000000\tGovernment\tActive\n",
      "SR003\tJames\tWilson\tjames.wilson@company.com\t+1-960-909-8385\tNorth America\tNortheast\t2021-06-11\t6.71\t1500000\tEducation\tOn Leave\n",
      "*/\n"
     ]
    }
   ],
   "source": [
    "print(get_schema_tool.invoke(\"sales_representative\"))"
   ]
  },
  {
   "cell_type": "code",
   "execution_count": 77,
   "id": "c18ff188",
   "metadata": {},
   "outputs": [],
   "source": [
    "llm_to_get_schema=llm.bind_tools([get_schema_tool])"
   ]
  },
  {
   "cell_type": "code",
   "execution_count": 78,
   "id": "17b136f4",
   "metadata": {},
   "outputs": [],
   "source": [
    "from langchain_core.tools import tool\n",
    "@tool\n",
    "def query_to_database(query:str)->str:\n",
    "    \"\"\"\n",
    "    Execute a PostgreSQL query against the database and return the result.\n",
    "    If the query is invalid or returns no result, an error message will be returned.\n",
    "    In case of an error, the user is advised to rewrite the query and try again.\n",
    "    \"\"\"\n",
    "    result=db.run_no_throw(query)\n",
    "    if not result:\n",
    "        return \"Error: Query failed. Please rewrite your query and try again.\"\n",
    "    return result\n",
    "\n"
   ]
  },
  {
   "cell_type": "code",
   "execution_count": 79,
   "id": "7995285c",
   "metadata": {},
   "outputs": [
    {
     "data": {
      "text/plain": [
       "\"[('SR001', 'Michael', 'Clark', 'michael.clark@company.com', '+1-451-880-2028', 'Asia Pacific', 'South Korea', datetime.date(2020, 7, 27), 2.7, 1500000, 'Enterprise', 'On Leave'), ('SR002', 'Kimberly', 'Lewis', 'kimberly.lewis@company.com', '+1-911-852-3462', 'North America', 'Southeast', datetime.date(2022, 4, 19), 4.06, 1000000, 'Government', 'Active'), ('SR003', 'James', 'Wilson', 'james.wilson@company.com', '+1-960-909-8385', 'North America', 'Northeast', datetime.date(2021, 6, 11), 6.71, 1500000, 'Education', 'On Leave'), ('SR004', 'Richard', 'Martin', 'richard.martin@company.com', '+1-928-903-8286', 'Asia Pacific', 'South Korea', datetime.date(2020, 11, 13), 2.61, 750000, 'Enterprise', 'On Leave'), ('SR005', 'Andrew', 'Davis', 'andrew.davis@company.com', '+1-248-564-9589', 'North America', 'Southeast', datetime.date(2022, 12, 25), 7.78, 750000, 'Consumer', 'Active'), ('SR006', 'Sandra', 'King', 'sandra.king@company.com', '+1-860-626-1205', 'Latin America', 'Chile', datetime.date(2022, 12, 31), 7.63, 500000, 'Government', 'Active'), ('SR007', 'Mary', 'Smith', 'mary.smith@company.com', '+1-763-552-4898', 'Latin America', 'Argentina', datetime.date(2020, 9, 21), 6.34, 1000000, 'Enterprise', 'Active'), ('SR008', 'David', 'Wright', 'david.wright@company.com', '+1-277-935-2969', 'North America', 'Southeast', datetime.date(2020, 12, 2), 3.81, 1500000, 'Consumer', 'On Leave'), ('SR009', 'Emily', 'Garcia', 'emily.garcia@company.com', '+1-379-709-6043', 'Asia Pacific', 'Australia', datetime.date(2020, 1, 3), 4.95, 1250000, 'Enterprise', 'Active'), ('SR010', 'Michael', 'Lopez', 'michael.lopez@company.com', '+1-867-343-1895', 'Asia Pacific', 'Japan', datetime.date(2020, 8, 1), 2.78, 1250000, 'Consumer', 'On Leave'), ('SR011', 'Susan', 'Lopez', 'susan.lopez@company.com', '+1-846-546-3774', 'North America', 'West', datetime.date(2021, 1, 30), 6.42, 1500000, 'SMB', 'Active'), ('SR012', 'Robert', 'Garcia', 'robert.garcia@company.com', '+1-766-326-1368', 'Asia Pacific', 'China', datetime.date(2022, 8, 25), 3.97, 1250000, 'Government', 'On Leave'), ('SR013', 'Jessica', 'Taylor', 'jessica.taylor@company.com', '+1-832-552-8328', 'Middle East', 'Saudi Arabia', datetime.date(2020, 1, 30), 5.54, 500000, 'Consumer', 'Active'), ('SR014', 'John', 'Garcia', 'john.garcia@company.com', '+1-937-284-5103', 'Asia Pacific', 'Japan', datetime.date(2021, 5, 19), 6.99, 1250000, 'SMB', 'Active'), ('SR015', 'Steven', 'Ramirez', 'steven.ramirez@company.com', '+1-358-751-4162', 'Europe', 'France', datetime.date(2020, 12, 18), 2.64, 1500000, 'Consumer', 'Active'), ('SR016', 'Donna', 'Wilson', 'donna.wilson@company.com', '+1-297-654-9696', 'Middle East', 'Turkey', datetime.date(2022, 2, 24), 7.63, 500000, 'Education', 'On Leave'), ('SR017', 'Linda', 'Anderson', 'linda.anderson@company.com', '+1-640-550-6302', 'Middle East', 'Saudi Arabia', datetime.date(2021, 6, 4), 6.82, 750000, 'SMB', 'On Leave'), ('SR018', 'Helen', 'Anderson', 'helen.anderson@company.com', '+1-636-916-8699', 'Asia Pacific', 'South Korea', datetime.date(2022, 2, 7), 4.71, 500000, 'Education', 'Active'), ('SR019', 'Jennifer', 'King', 'jennifer.king@company.com', '+1-248-819-1390', 'Europe', 'UK', datetime.date(2021, 5, 2), 6.36, 750000, 'Education', 'Active'), ('SR020', 'Ashley', 'Flores', 'ashley.flores@company.com', '+1-475-147-5301', 'Latin America', 'Mexico', datetime.date(2022, 8, 2), 7.05, 1000000, 'Government', 'Active'), ('SR021', 'Margaret', 'Nguyen', 'margaret.nguyen@company.com', '+1-735-724-6246', 'Middle East', 'Turkey', datetime.date(2020, 1, 31), 2.16, 500000, 'Consumer', 'Active'), ('SR022', 'Sarah', 'Martinez', 'sarah.martinez@company.com', '+1-567-516-9893', 'Middle East', 'Saudi Arabia', datetime.date(2022, 6, 6), 4.03, 1500000, 'Government', 'Active'), ('SR023', 'Steven', 'Wright', 'steven.wright@company.com', '+1-546-553-2630', 'North America', 'West', datetime.date(2022, 11, 29), 7.57, 1000000, 'Government', 'Active'), ('SR024', 'Susan', 'Thomas', 'susan.thomas@company.com', '+1-844-129-6486', 'Middle East', 'Turkey', datetime.date(2020, 11, 2), 5.37, 1250000, 'Government', 'Active'), ('SR025', 'Margaret', 'Clark', 'margaret.clark@company.com', '+1-229-850-1048', 'North America', 'Southeast', datetime.date(2021, 9, 3), 7.0, 1500000, 'SMB', 'Active'), ('SR026', 'Betty', 'Lewis', 'betty.lewis@company.com', '+1-755-854-8932', 'Latin America', 'Argentina', datetime.date(2021, 6, 30), 5.74, 1000000, 'Education', 'Active'), ('SR027', 'Ashley', 'Clark', 'ashley.clark@company.com', '+1-413-473-6918', 'North America', 'Midwest', datetime.date(2020, 3, 7), 3.5, 500000, 'Enterprise', 'Active'), ('SR028', 'Matthew', 'Lopez', 'matthew.lopez@company.com', '+1-344-904-6009', 'Middle East', 'Israel', datetime.date(2020, 9, 26), 3.29, 1500000, 'Education', 'On Leave'), ('SR029', 'Kenneth', 'Young', 'kenneth.young@company.com', '+1-660-688-2276', 'Middle East', 'Israel', datetime.date(2021, 1, 18), 6.15, 750000, 'Government', 'Active'), ('SR030', 'Elizabeth', 'Moore', 'elizabeth.moore@company.com', '+1-858-348-5953', 'Asia Pacific', 'Singapore', datetime.date(2021, 6, 24), 5.12, 1000000, 'Education', 'Active'), ('SR031', 'Linda', 'Lee', 'linda.lee@company.com', '+1-374-290-6400', 'Middle East', 'Israel', datetime.date(2021, 9, 18), 4.49, 1250000, 'Education', 'On Leave'), ('SR032', 'Anthony', 'Green', 'anthony.green@company.com', '+1-837-582-2294', 'Latin America', 'Argentina', datetime.date(2021, 1, 4), 4.34, 500000, 'Government', 'Active'), ('SR033', 'Christopher', 'Hill', 'christopher.hill@company.com', '+1-721-249-5159', 'Asia Pacific', 'China', datetime.date(2022, 5, 5), 4.96, 750000, 'Enterprise', 'Active'), ('SR034', 'Kenneth', 'Scott', 'kenneth.scott@company.com', '+1-602-608-5557', 'Latin America', 'Colombia', datetime.date(2020, 4, 13), 2.07, 750000, 'Education', 'Active'), ('SR035', 'Christopher', 'Nguyen', 'christopher.nguyen@company.com', '+1-928-377-2822', 'Latin America', 'Brazil', datetime.date(2021, 5, 19), 6.24, 1500000, 'Education', 'Active'), ('SR036', 'Christopher', 'Johnson', 'christopher.johnson@company.com', '+1-945-963-4006', 'North America', 'West', datetime.date(2020, 4, 13), 4.3, 750000, 'Government', 'Active'), ('SR037', 'Kenneth', 'Hernandez', 'kenneth.hernandez@company.com', '+1-752-904-7490', 'Europe', 'Germany', datetime.date(2021, 7, 6), 6.09, 1250000, 'SMB', 'Active'), ('SR038', 'Paul', 'Thomas', 'paul.thomas@company.com', '+1-915-775-9082', 'Asia Pacific', 'Australia', datetime.date(2022, 6, 22), 6.24, 500000, 'Education', 'On Leave'), ('SR039', 'Betty', 'Lopez', 'betty.lopez@company.com', '+1-333-618-4801', 'North America', 'Midwest', datetime.date(2021, 12, 22), 6.82, 750000, 'Consumer', 'On Leave'), ('SR040', 'Linda', 'Jackson', 'linda.jackson@company.com', '+1-202-630-5928', 'Asia Pacific', 'South Korea', datetime.date(2020, 10, 9), 3.51, 1500000, 'SMB', 'On Leave'), ('SR041', 'Ashley', 'Taylor', 'ashley.taylor@company.com', '+1-406-977-8038', 'Latin America', 'Mexico', datetime.date(2022, 6, 10), 7.72, 750000, 'Education', 'Active'), ('SR042', 'William', 'Scott', 'william.scott@company.com', '+1-352-839-9035', 'North America', 'Southwest', datetime.date(2021, 1, 5), 6.94, 500000, 'Enterprise', 'On Leave'), ('SR043', 'Lisa', 'Miller', 'lisa.miller@company.com', '+1-442-430-9307', 'Middle East', 'Israel', datetime.date(2020, 7, 9), 2.12, 1000000, 'Consumer', 'Active'), ('SR044', 'Donald', 'Nguyen', 'donald.nguyen@company.com', '+1-363-288-1007', 'Middle East', 'Israel', datetime.date(2022, 7, 7), 5.56, 1500000, 'Government', 'Active'), ('SR045', 'James', 'Green', 'james.green@company.com', '+1-601-370-8724', 'Middle East', 'Israel', datetime.date(2022, 10, 12), 4.92, 1000000, 'Enterprise', 'Active'), ('SR046', 'Patricia', 'Davis', 'patricia.davis@company.com', '+1-461-468-7419', 'Latin America', 'Colombia', datetime.date(2022, 1, 14), 5.7, 1500000, 'Government', 'Active'), ('SR047', 'John', 'Wright', 'john.wright@company.com', '+1-406-955-1679', 'Middle East', 'UAE', datetime.date(2021, 12, 25), 7.69, 750000, 'Consumer', 'Active'), ('SR048', 'Ashley', 'Allen', 'ashley.allen@company.com', '+1-770-935-4736', 'Middle East', 'Israel', datetime.date(2020, 4, 19), 2.22, 750000, 'SMB', 'Active'), ('SR049', 'Donald', 'Lee', 'donald.lee@company.com', '+1-889-766-5211', 'Europe', 'UK', datetime.date(2022, 9, 12), 5.37, 1000000, 'Government', 'Active'), ('SR050', 'Mary', 'Brown', 'mary.brown@company.com', '+1-281-232-8978', 'Latin America', 'Chile', datetime.date(2021, 2, 15), 7.42, 1000000, 'Enterprise', 'Active')]\""
      ]
     },
     "execution_count": 79,
     "metadata": {},
     "output_type": "execute_result"
    }
   ],
   "source": [
    "query_to_database.invoke(\"SELECT * FROM sales_representative;\")"
   ]
  },
  {
   "cell_type": "code",
   "execution_count": 80,
   "id": "c5c69211",
   "metadata": {},
   "outputs": [],
   "source": [
    "llm_with_tools=llm.bind_tools([query_to_database])"
   ]
  },
  {
   "cell_type": "code",
   "execution_count": 81,
   "id": "6998be7a",
   "metadata": {},
   "outputs": [
    {
     "data": {
      "text/plain": [
       "AIMessage(content='', additional_kwargs={'tool_calls': [{'id': 'call_xw2x', 'function': {'arguments': '{\"query\":\"SELECT * FROM orders;\"}', 'name': 'query_to_database'}, 'type': 'function'}]}, response_metadata={'token_usage': {'completion_tokens': 70, 'prompt_tokens': 947, 'total_tokens': 1017, 'completion_time': 0.2, 'prompt_time': 0.038592868, 'queue_time': 0.21175695099999997, 'total_time': 0.238592868}, 'model_name': 'llama3-70b-8192', 'system_fingerprint': 'fp_dd4ae1c591', 'finish_reason': 'tool_calls', 'logprobs': None}, id='run--1fe73abf-22ad-47c3-a918-043ab35624b1-0', tool_calls=[{'name': 'query_to_database', 'args': {'query': 'SELECT * FROM orders;'}, 'id': 'call_xw2x', 'type': 'tool_call'}], usage_metadata={'input_tokens': 947, 'output_tokens': 70, 'total_tokens': 1017})"
      ]
     },
     "execution_count": 81,
     "metadata": {},
     "output_type": "execute_result"
    }
   ],
   "source": [
    "llm_with_tools.invoke(\"SELECT * FROM orders;\")"
   ]
  },
  {
   "cell_type": "code",
   "execution_count": 82,
   "id": "9966c22c",
   "metadata": {},
   "outputs": [],
   "source": [
    "class State(TypedDict):\n",
    "    messages: Annotated[list[AnyMessage], add_messages]"
   ]
  },
  {
   "cell_type": "code",
   "execution_count": 83,
   "id": "ea371bbe",
   "metadata": {},
   "outputs": [],
   "source": [
    "def handle_tool_error(state:State):\n",
    "    error = state.get(\"error\") \n",
    "    tool_calls = state[\"messages\"][-1].tool_calls\n",
    "    return { \"messages\": [ ToolMessage(content=f\"Error: {repr(error)}\\n please fix your mistakes.\",tool_call_id=tc[\"id\"],) for tc in tool_calls ] }\n",
    "\n",
    "def create_node_from_tool_with_fallback(tools:list)-> RunnableWithFallbacks[Any, dict]:\n",
    "    return ToolNode(tools).with_fallbacks([RunnableLambda(handle_tool_error)], exception_key=\"error\")"
   ]
  },
  {
   "cell_type": "code",
   "execution_count": 84,
   "id": "e2499645",
   "metadata": {},
   "outputs": [],
   "source": [
    "list_tables=create_node_from_tool_with_fallback([list_tables_tool])\n",
    "get_schema=create_node_from_tool_with_fallback([get_schema_tool])\n",
    "query_database=create_node_from_tool_with_fallback([query_to_database])"
   ]
  },
  {
   "cell_type": "code",
   "execution_count": 85,
   "id": "af64a379",
   "metadata": {},
   "outputs": [],
   "source": [
    "from langchain_core.prompts import ChatPromptTemplate\n",
    "\n",
    "query_check_system = \"\"\"You are a PostgreSQL expert. Carefully review the SQL query for common mistakes, including:\n",
    "\n",
    "Issues with NULL handling (e.g., NOT IN with NULLs)\n",
    "Improper use of UNION instead of UNION ALL\n",
    "Incorrect use of BETWEEN for exclusive ranges\n",
    "Data type mismatches or incorrect casting\n",
    "Quoting identifiers improperly\n",
    "Incorrect number of arguments in functions\n",
    "Errors in JOIN conditions\n",
    "\n",
    "If you find any mistakes, rewrite the query to fix them. If it's correct, reproduce it as is.\"\"\"\n",
    "\n",
    "query_check_prompt = ChatPromptTemplate.from_messages([(\"system\", query_check_system), (\"placeholder\", \"{messages}\")])\n",
    "\n",
    "check_generated_query = query_check_prompt | llm_with_tools"
   ]
  },
  {
   "cell_type": "code",
   "execution_count": 86,
   "id": "cf0742ae",
   "metadata": {},
   "outputs": [
    {
     "data": {
      "text/plain": [
       "AIMessage(content='', additional_kwargs={'tool_calls': [{'id': 'call_ac0r', 'function': {'arguments': '{\"query\":\"SELECT * FROM suppliers LIMIT 5;\"}', 'name': 'query_to_database'}, 'type': 'function'}]}, response_metadata={'token_usage': {'completion_tokens': 73, 'prompt_tokens': 1048, 'total_tokens': 1121, 'completion_time': 0.417232188, 'prompt_time': 0.034141498, 'queue_time': 0.210484539, 'total_time': 0.451373686}, 'model_name': 'llama3-70b-8192', 'system_fingerprint': 'fp_dd4ae1c591', 'finish_reason': 'tool_calls', 'logprobs': None}, id='run--61170eec-d87e-4b7d-a10b-3d51c9248b52-0', tool_calls=[{'name': 'query_to_database', 'args': {'query': 'SELECT * FROM suppliers LIMIT 5;'}, 'id': 'call_ac0r', 'type': 'tool_call'}], usage_metadata={'input_tokens': 1048, 'output_tokens': 73, 'total_tokens': 1121})"
      ]
     },
     "execution_count": 86,
     "metadata": {},
     "output_type": "execute_result"
    }
   ],
   "source": [
    "check_generated_query.invoke({\"messages\": [(\"user\", \"SELECT * FROM suppliers LIMIT 5;\")]})"
   ]
  },
  {
   "cell_type": "code",
   "execution_count": 87,
   "id": "3880148f",
   "metadata": {},
   "outputs": [
    {
     "data": {
      "text/plain": [
       "AIMessage(content=\"I think there are a few issues with this query.\\n\\nFirstly, `+++` is not a valid column name or expression. Did you mean to select all columns (`*`) or a specific column?\\n\\nSecondly, the keyword is `LIMIT`, not `LIMITs`.\\n\\nHere's a rewritten query that fixes these issues:\\n\\n```sql\\nSELECT * FROM suppliers LIMIT 5;\\n```\\n\\nIf you meant to select a specific column, replace `*` with the column name.\", additional_kwargs={}, response_metadata={'token_usage': {'completion_tokens': 97, 'prompt_tokens': 1049, 'total_tokens': 1146, 'completion_time': 0.387353574, 'prompt_time': 0.034619352, 'queue_time': 0.20999494600000002, 'total_time': 0.421972926}, 'model_name': 'llama3-70b-8192', 'system_fingerprint': 'fp_dd4ae1c591', 'finish_reason': 'stop', 'logprobs': None}, id='run--3b1318ea-cf41-425a-ab30-6edbb21af311-0', usage_metadata={'input_tokens': 1049, 'output_tokens': 97, 'total_tokens': 1146})"
      ]
     },
     "execution_count": 87,
     "metadata": {},
     "output_type": "execute_result"
    }
   ],
   "source": [
    "check_generated_query.invoke({\"messages\": [(\"user\", \"SELECT +++ FROM suppliers LIMITs 5;\")]})"
   ]
  },
  {
   "cell_type": "code",
   "execution_count": 88,
   "id": "a6c74983",
   "metadata": {},
   "outputs": [],
   "source": [
    "class SubmitFinalAnswer(BaseModel):\n",
    "    \"\"\"Submit the final answer to the user based on the query results.\"\"\"\n",
    "    final_answer: str = Field(..., description=\"The final answer to the user\")\n",
    "    \n",
    "llm_with_final_answer=llm.bind_tools([SubmitFinalAnswer])"
   ]
  },
  {
   "cell_type": "code",
   "execution_count": 89,
   "id": "e3380a4d",
   "metadata": {},
   "outputs": [],
   "source": [
    "# Add a node for a model to generate a query based on the question and schema\n",
    "query_gen_system_prompt = \"\"\"You are a PostgreSQL expert with a strong attention to detail.Given an input question, output a syntactically correct SQLite query to run, then look at the results of the query and return the answer.\n",
    "\n",
    "1. DO NOT call any tool besides SubmitFinalAnswer to submit the final answer.\n",
    "\n",
    "When generating the query:\n",
    "\n",
    "2. Output the SQL query that answers the input question without a tool call.\n",
    "\n",
    "3. Unless the user specifies a specific number of examples they wish to obtain, always limit your query to at most 5 results.\n",
    "\n",
    "4. You can order the results by a relevant column to return the most interesting examples in the database.\n",
    "\n",
    "5. Never query for all the columns from a specific table, only ask for the relevant columns given the question.\n",
    "\n",
    "6. If you get an error while executing a query, rewrite the query and try again.\n",
    "\n",
    "7. If you get an empty result set, you should try to rewrite the query to get a non-empty result set.\n",
    "\n",
    "8. NEVER make stuff up if you don't have enough information to answer the query... just say you don't have enough information.\n",
    "\n",
    "9. If you have enough information to answer the input question, simply invoke the appropriate tool to submit the final answer to the user.\n",
    "\n",
    "10. DO NOT make any DML statements (INSERT, UPDATE, DELETE, DROP etc.) to the database. Do not return any sql query except answer. \"\"\"\n",
    "\n",
    "query_gen_prompt = ChatPromptTemplate.from_messages([(\"system\", query_gen_system_prompt), (\"placeholder\", \"{messages}\")])\n",
    "\n",
    "query_generator = query_gen_prompt | llm_with_final_answer"
   ]
  },
  {
   "cell_type": "code",
   "execution_count": 90,
   "id": "17edb7f9",
   "metadata": {},
   "outputs": [
    {
     "data": {
      "text/plain": [
       "AIMessage(content='', additional_kwargs={'tool_calls': [{'id': 'call_akep', 'function': {'arguments': '{\"final_answer\":\"The query results are available.\"}', 'name': 'SubmitFinalAnswer'}, 'type': 'function'}]}, response_metadata={'token_usage': {'completion_tokens': 136, 'prompt_tokens': 1210, 'total_tokens': 1346, 'completion_time': 0.438767187, 'prompt_time': 0.047254101, 'queue_time': 0.20561655299999998, 'total_time': 0.486021288}, 'model_name': 'llama3-70b-8192', 'system_fingerprint': 'fp_dd4ae1c591', 'finish_reason': 'tool_calls', 'logprobs': None}, id='run--53e8af8d-a77c-4e52-8a77-56bb083f0b61-0', tool_calls=[{'name': 'SubmitFinalAnswer', 'args': {'final_answer': 'The query results are available.'}, 'id': 'call_akep', 'type': 'tool_call'}], usage_metadata={'input_tokens': 1210, 'output_tokens': 136, 'total_tokens': 1346})"
      ]
     },
     "execution_count": 90,
     "metadata": {},
     "output_type": "execute_result"
    }
   ],
   "source": [
    "query_generator.invoke({\"messages\": [(\"can you fetch the data from customers table?\")]})"
   ]
  },
  {
   "cell_type": "code",
   "execution_count": 91,
   "id": "552454b6",
   "metadata": {},
   "outputs": [],
   "source": [
    "def first_tool_call(state:State)->dict[str,list[AIMessage]]:\n",
    "    print(f\"state from first_tool_call: {state}\")\n",
    "    return{\"messages\": [AIMessage(content=\"\",tool_calls=[{\"name\":\"sql_db_list_tables\",\"args\":{},\"id\":\"tool_abcd123\"}])]}"
   ]
  },
  {
   "cell_type": "code",
   "execution_count": 92,
   "id": "028c8779",
   "metadata": {},
   "outputs": [],
   "source": [
    "def check_the_given_query(state:State):\n",
    "    print(f\"state from check the given query: {state}\")\n",
    "    return {\"messages\": [check_generated_query.invoke({\"messages\": [state[\"messages\"][-1]]})]}\n"
   ]
  },
  {
   "cell_type": "code",
   "execution_count": 93,
   "id": "aeaa435e",
   "metadata": {},
   "outputs": [],
   "source": [
    "def generation_query(state:State):\n",
    "    message = query_generator.invoke(state)\n",
    "    print(f\"state from generation_query: {state}\")\n",
    "\n",
    "    # Sometimes, the LLM will hallucinate and call the wrong tool. We need to catch this and return an error message.\n",
    "    tool_messages = []\n",
    "    if message.tool_calls:\n",
    "        for tc in message.tool_calls:\n",
    "            if tc[\"name\"] != \"SubmitFinalAnswer\":\n",
    "                tool_messages.append(\n",
    "                    ToolMessage(\n",
    "                        content=f\"Error: The wrong tool was called: {tc['name']}. Please fix your mistakes. Remember to only call SubmitFinalAnswer to submit the final answer. Generated queries should be outputted WITHOUT a tool call.\",\n",
    "                        tool_call_id=tc[\"id\"],\n",
    "                    )\n",
    "                )\n",
    "    else:\n",
    "        tool_messages = []\n",
    "    return {\"messages\": [message] + tool_messages}"
   ]
  },
  {
   "cell_type": "code",
   "execution_count": 94,
   "id": "70a82c2b",
   "metadata": {},
   "outputs": [],
   "source": [
    "def should_continue(state:State):\n",
    "    print(f\"state from should_continue: {state}\")\n",
    "    messages = state[\"messages\"]\n",
    "    last_message = messages[-1]\n",
    "    print(\"last message\")\n",
    "    print(last_message)\n",
    "    if getattr(last_message, \"tool_calls\", None):\n",
    "        print(\"sooo\")\n",
    "        return END\n",
    "    elif last_message.content.startswith(\"Error:\"):\n",
    "        print(\"dooo\")\n",
    "        return \"query_gen\"\n",
    "    else:\n",
    "        print(\"oooo\")\n",
    "        return \"correct_query\""
   ]
  },
  {
   "cell_type": "code",
   "execution_count": 95,
   "id": "8d3ff5d6",
   "metadata": {},
   "outputs": [],
   "source": [
    "def llm_get_schema(state:State):\n",
    "    print(\"state from llm_get_schema\", state)\n",
    "    response = llm_to_get_schema.invoke(state[\"messages\"])\n",
    "    return {\"messages\": [response]}"
   ]
  },
  {
   "cell_type": "code",
   "execution_count": 96,
   "id": "0ff30770",
   "metadata": {},
   "outputs": [
    {
     "data": {
      "text/plain": [
       "<langgraph.graph.state.StateGraph at 0x2a69b418f90>"
      ]
     },
     "execution_count": 96,
     "metadata": {},
     "output_type": "execute_result"
    }
   ],
   "source": [
    "workflow = StateGraph(State)\n",
    "workflow.add_node(\"first_tool_call\",first_tool_call)\n",
    "workflow.add_node(\"list_tables_tool\", list_tables)\n",
    "workflow.add_node(\"get_schema_tool\", get_schema)\n",
    "workflow.add_node(\"model_get_schema\", llm_get_schema)\n",
    "workflow.add_node(\"query_gen\", generation_query)\n",
    "workflow.add_node(\"correct_query\", check_the_given_query)\n",
    "workflow.add_node(\"execute_query\", query_database)\n"
   ]
  },
  {
   "cell_type": "code",
   "execution_count": 97,
   "id": "78d160e2",
   "metadata": {},
   "outputs": [
    {
     "data": {
      "text/plain": [
       "<langgraph.graph.state.StateGraph at 0x2a69b418f90>"
      ]
     },
     "execution_count": 97,
     "metadata": {},
     "output_type": "execute_result"
    }
   ],
   "source": [
    "workflow.add_edge(START, \"first_tool_call\")\n",
    "workflow.add_edge(\"first_tool_call\", \"list_tables_tool\")\n",
    "workflow.add_edge(\"list_tables_tool\", \"model_get_schema\")\n",
    "workflow.add_edge(\"model_get_schema\", \"get_schema_tool\")\n",
    "workflow.add_edge(\"get_schema_tool\", \"query_gen\")\n",
    "workflow.add_conditional_edges(\"query_gen\",should_continue,\n",
    "                            {END:END,\n",
    "                             \"query_gen\":\"query_gen\",\n",
    "                            \"correct_query\":\"correct_query\"})\n",
    "workflow.add_edge(\"correct_query\", \"execute_query\")\n",
    "workflow.add_edge(\"execute_query\", \"query_gen\")"
   ]
  },
  {
   "cell_type": "code",
   "execution_count": 98,
   "id": "7ae3c311",
   "metadata": {},
   "outputs": [],
   "source": [
    "app=workflow.compile()"
   ]
  },
  {
   "cell_type": "code",
   "execution_count": 99,
   "id": "23346e85",
   "metadata": {},
   "outputs": [
    {
     "data": {
      "image/png": "[encoded data removed]",
      "text/plain": [
       "<IPython.core.display.Image object>"
      ]
     },
     "metadata": {},
     "output_type": "display_data"
    }
   ],
   "source": [
    "from IPython.display import Image, display\n",
    "from langchain_core.runnables.graph import MermaidDrawMethod\n",
    "\n",
    "display(\n",
    "    Image(\n",
    "        app.get_graph().draw_mermaid_png(\n",
    "            draw_method=MermaidDrawMethod.API,\n",
    "        )\n",
    "    )\n",
    ")"
   ]
  },
  {
   "cell_type": "code",
   "execution_count": null,
   "id": "43d06c90",
   "metadata": {},
   "outputs": [],
   "source": [
    "query={\"messages\": [(\"user\", \"show me suppliers tables 1 row\")]}\n",
    "response=app.invoke(query)"
   ]
  },
  {
   "cell_type": "code",
   "execution_count": 101,
   "id": "305c00b3",
   "metadata": {},
   "outputs": [
    {
     "name": "stdout",
     "output_type": "stream",
     "text": [
      "state from first_tool_call: {'messages': [HumanMessage(content='show me suppliers tables 1 row', additional_kwargs={}, response_metadata={}, id='3f495b89-4432-498b-b454-45fe214c3880')]}\n",
      "state from llm_get_schema {'messages': [HumanMessage(content='show me suppliers tables 1 row', additional_kwargs={}, response_metadata={}, id='3f495b89-4432-498b-b454-45fe214c3880'), AIMessage(content='', additional_kwargs={}, response_metadata={}, id='e48c62e3-0b9e-454e-9236-da07bc91afd1', tool_calls=[{'name': 'sql_db_list_tables', 'args': {}, 'id': 'tool_abcd123', 'type': 'tool_call'}]), ToolMessage(content='customers, order_details, orders, products, sales_representative, suppliers', name='sql_db_list_tables', id='185e11c7-d100-4668-a64f-ae5473d84217', tool_call_id='tool_abcd123')]}\n",
      "state from generation_query: {'messages': [HumanMessage(content='show me suppliers tables 1 row', additional_kwargs={}, response_metadata={}, id='3f495b89-4432-498b-b454-45fe214c3880'), AIMessage(content='', additional_kwargs={}, response_metadata={}, id='e48c62e3-0b9e-454e-9236-da07bc91afd1', tool_calls=[{'name': 'sql_db_list_tables', 'args': {}, 'id': 'tool_abcd123', 'type': 'tool_call'}]), ToolMessage(content='customers, order_details, orders, products, sales_representative, suppliers', name='sql_db_list_tables', id='185e11c7-d100-4668-a64f-ae5473d84217', tool_call_id='tool_abcd123'), AIMessage(content='', additional_kwargs={'tool_calls': [{'id': 'call_tkhq', 'function': {'arguments': '{\"table_names\":\"suppliers\"}', 'name': 'sql_db_schema'}, 'type': 'function'}]}, response_metadata={'token_usage': {'completion_tokens': 36, 'prompt_tokens': 1062, 'total_tokens': 1098, 'completion_time': 0.124825373, 'prompt_time': 0.034732101, 'queue_time': 0.20710338899999997, 'total_time': 0.159557474}, 'model_name': 'llama3-70b-8192', 'system_fingerprint': 'fp_dd4ae1c591', 'finish_reason': 'tool_calls', 'logprobs': None}, id='run--a6966768-7871-4a22-afc5-842e325dcb5c-0', tool_calls=[{'name': 'sql_db_schema', 'args': {'table_names': 'suppliers'}, 'id': 'call_tkhq', 'type': 'tool_call'}], usage_metadata={'input_tokens': 1062, 'output_tokens': 36, 'total_tokens': 1098}), ToolMessage(content='\\nCREATE TABLE info.suppliers (\\n\\tsupplier_id VARCHAR NOT NULL, \\n\\tcompany_name VARCHAR NOT NULL, \\n\\tcontact_person VARCHAR NOT NULL, \\n\\temail VARCHAR NOT NULL, \\n\\tphone VARCHAR NOT NULL, \\n\\twebsite VARCHAR NOT NULL, \\n\\tcountry VARCHAR NOT NULL, \\n\\tcity VARCHAR NOT NULL, \\n\\tpartnership_date DATE NOT NULL, \\n\\tpayment_terms VARCHAR NOT NULL, \\n\\tcredit_limit INTEGER NOT NULL, \\n\\trating INTEGER NOT NULL, \\n\\tstatus VARCHAR NOT NULL, \\n\\tCONSTRAINT pk_suppliers PRIMARY KEY (supplier_id)\\n)\\n\\n/*\\n3 rows from suppliers table:\\nsupplier_id\\tcompany_name\\tcontact_person\\temail\\tphone\\twebsite\\tcountry\\tcity\\tpartnership_date\\tpayment_terms\\tcredit_limit\\trating\\tstatus\\nS001\\tTop Solutions\\tMaria Garcia\\tcontact@topsolutions.com\\t+47-955-4422\\twww.topsolutions.com\\tChina\\tShanghai\\t2020-06-07\\tNet 45\\t1000000\\t2\\tActive\\nS002\\tPrime Tech\\tLisa Wong\\tcontact@primetech.com\\t+73-739-6929\\twww.primetech.com\\tGermany\\tStuttgart\\t2022-10-29\\tNet 60\\t1000000\\t3\\tActive\\nS003\\tPrime Industries\\tWei Chen\\tcontact@primeindustries.com\\t+77-893-8597\\twww.primeindustries.com\\tUK\\tBirmingham\\t2020-10-03\\tNet 30\\t500000\\t2\\tActive\\n*/', name='sql_db_schema', id='4fdedae9-ccb7-458d-805a-f98cc39ef1c4', tool_call_id='call_tkhq')]}\n",
      "state from should_continue: {'messages': [HumanMessage(content='show me suppliers tables 1 row', additional_kwargs={}, response_metadata={}, id='3f495b89-4432-498b-b454-45fe214c3880'), AIMessage(content='', additional_kwargs={}, response_metadata={}, id='e48c62e3-0b9e-454e-9236-da07bc91afd1', tool_calls=[{'name': 'sql_db_list_tables', 'args': {}, 'id': 'tool_abcd123', 'type': 'tool_call'}]), ToolMessage(content='customers, order_details, orders, products, sales_representative, suppliers', name='sql_db_list_tables', id='185e11c7-d100-4668-a64f-ae5473d84217', tool_call_id='tool_abcd123'), AIMessage(content='', additional_kwargs={'tool_calls': [{'id': 'call_tkhq', 'function': {'arguments': '{\"table_names\":\"suppliers\"}', 'name': 'sql_db_schema'}, 'type': 'function'}]}, response_metadata={'token_usage': {'completion_tokens': 36, 'prompt_tokens': 1062, 'total_tokens': 1098, 'completion_time': 0.124825373, 'prompt_time': 0.034732101, 'queue_time': 0.20710338899999997, 'total_time': 0.159557474}, 'model_name': 'llama3-70b-8192', 'system_fingerprint': 'fp_dd4ae1c591', 'finish_reason': 'tool_calls', 'logprobs': None}, id='run--a6966768-7871-4a22-afc5-842e325dcb5c-0', tool_calls=[{'name': 'sql_db_schema', 'args': {'table_names': 'suppliers'}, 'id': 'call_tkhq', 'type': 'tool_call'}], usage_metadata={'input_tokens': 1062, 'output_tokens': 36, 'total_tokens': 1098}), ToolMessage(content='\\nCREATE TABLE info.suppliers (\\n\\tsupplier_id VARCHAR NOT NULL, \\n\\tcompany_name VARCHAR NOT NULL, \\n\\tcontact_person VARCHAR NOT NULL, \\n\\temail VARCHAR NOT NULL, \\n\\tphone VARCHAR NOT NULL, \\n\\twebsite VARCHAR NOT NULL, \\n\\tcountry VARCHAR NOT NULL, \\n\\tcity VARCHAR NOT NULL, \\n\\tpartnership_date DATE NOT NULL, \\n\\tpayment_terms VARCHAR NOT NULL, \\n\\tcredit_limit INTEGER NOT NULL, \\n\\trating INTEGER NOT NULL, \\n\\tstatus VARCHAR NOT NULL, \\n\\tCONSTRAINT pk_suppliers PRIMARY KEY (supplier_id)\\n)\\n\\n/*\\n3 rows from suppliers table:\\nsupplier_id\\tcompany_name\\tcontact_person\\temail\\tphone\\twebsite\\tcountry\\tcity\\tpartnership_date\\tpayment_terms\\tcredit_limit\\trating\\tstatus\\nS001\\tTop Solutions\\tMaria Garcia\\tcontact@topsolutions.com\\t+47-955-4422\\twww.topsolutions.com\\tChina\\tShanghai\\t2020-06-07\\tNet 45\\t1000000\\t2\\tActive\\nS002\\tPrime Tech\\tLisa Wong\\tcontact@primetech.com\\t+73-739-6929\\twww.primetech.com\\tGermany\\tStuttgart\\t2022-10-29\\tNet 60\\t1000000\\t3\\tActive\\nS003\\tPrime Industries\\tWei Chen\\tcontact@primeindustries.com\\t+77-893-8597\\twww.primeindustries.com\\tUK\\tBirmingham\\t2020-10-03\\tNet 30\\t500000\\t2\\tActive\\n*/', name='sql_db_schema', id='4fdedae9-ccb7-458d-805a-f98cc39ef1c4', tool_call_id='call_tkhq'), AIMessage(content='', additional_kwargs={'tool_calls': [{'id': 'call_235j', 'function': {'arguments': '{\"final_answer\":\"supplier_id\\\\tcompany_name\\\\tcontact_person\\\\temail\\\\tphone\\\\twebsite\\\\tcountry\\\\tcity\\\\tpartnership_date\\\\tpayment_terms\\\\trating\\\\tstatus\\\\nS001\\\\tTop Solutions\\\\tMaria Garcia\\\\tcontact@topsolutions.com\\\\t+47-955-4422\\\\twww.topsolutions.com\\\\tChina\\\\tShanghai\\\\t2020-06-07\\\\tNet 45\\\\t1000000\\\\t2\\\\tActive\"}', 'name': 'SubmitFinalAnswer'}, 'type': 'function'}]}, response_metadata={'token_usage': {'completion_tokens': 243, 'prompt_tokens': 3361, 'total_tokens': 3604, 'completion_time': 0.733803155, 'prompt_time': 0.125583904, 'queue_time': -0.713355993, 'total_time': 0.859387059}, 'model_name': 'llama3-70b-8192', 'system_fingerprint': 'fp_dd4ae1c591', 'finish_reason': 'tool_calls', 'logprobs': None}, id='run--ab417b6f-0830-464a-b9d1-affb83b6b57e-0', tool_calls=[{'name': 'SubmitFinalAnswer', 'args': {'final_answer': 'supplier_id\\tcompany_name\\tcontact_person\\temail\\tphone\\twebsite\\tcountry\\tcity\\tpartnership_date\\tpayment_terms\\trating\\tstatus\\nS001\\tTop Solutions\\tMaria Garcia\\tcontact@topsolutions.com\\t+47-955-4422\\twww.topsolutions.com\\tChina\\tShanghai\\t2020-06-07\\tNet 45\\t1000000\\t2\\tActive'}, 'id': 'call_235j', 'type': 'tool_call'}], usage_metadata={'input_tokens': 3361, 'output_tokens': 243, 'total_tokens': 3604})]}\n",
      "last message\n",
      "content='' additional_kwargs={'tool_calls': [{'id': 'call_235j', 'function': {'arguments': '{\"final_answer\":\"supplier_id\\\\tcompany_name\\\\tcontact_person\\\\temail\\\\tphone\\\\twebsite\\\\tcountry\\\\tcity\\\\tpartnership_date\\\\tpayment_terms\\\\trating\\\\tstatus\\\\nS001\\\\tTop Solutions\\\\tMaria Garcia\\\\tcontact@topsolutions.com\\\\t+47-955-4422\\\\twww.topsolutions.com\\\\tChina\\\\tShanghai\\\\t2020-06-07\\\\tNet 45\\\\t1000000\\\\t2\\\\tActive\"}', 'name': 'SubmitFinalAnswer'}, 'type': 'function'}]} response_metadata={'token_usage': {'completion_tokens': 243, 'prompt_tokens': 3361, 'total_tokens': 3604, 'completion_time': 0.733803155, 'prompt_time': 0.125583904, 'queue_time': -0.713355993, 'total_time': 0.859387059}, 'model_name': 'llama3-70b-8192', 'system_fingerprint': 'fp_dd4ae1c591', 'finish_reason': 'tool_calls', 'logprobs': None} id='run--ab417b6f-0830-464a-b9d1-affb83b6b57e-0' tool_calls=[{'name': 'SubmitFinalAnswer', 'args': {'final_answer': 'supplier_id\\tcompany_name\\tcontact_person\\temail\\tphone\\twebsite\\tcountry\\tcity\\tpartnership_date\\tpayment_terms\\trating\\tstatus\\nS001\\tTop Solutions\\tMaria Garcia\\tcontact@topsolutions.com\\t+47-955-4422\\twww.topsolutions.com\\tChina\\tShanghai\\t2020-06-07\\tNet 45\\t1000000\\t2\\tActive'}, 'id': 'call_235j', 'type': 'tool_call'}] usage_metadata={'input_tokens': 3361, 'output_tokens': 243, 'total_tokens': 3604}\n",
      "sooo\n"
     ]
    }
   ],
   "source": [
    "response=app.invoke(query)"
   ]
  },
  {
   "cell_type": "code",
   "execution_count": 102,
   "id": "dde5c760",
   "metadata": {},
   "outputs": [
    {
     "data": {
      "text/plain": [
       "'supplier_id\\tcompany_name\\tcontact_person\\temail\\tphone\\twebsite\\tcountry\\tcity\\tpartnership_date\\tpayment_terms\\trating\\tstatus\\nS001\\tTop Solutions\\tMaria Garcia\\tcontact@topsolutions.com\\t+47-955-4422\\twww.topsolutions.com\\tChina\\tShanghai\\t2020-06-07\\tNet 45\\t1000000\\t2\\tActive'"
      ]
     },
     "execution_count": 102,
     "metadata": {},
     "output_type": "execute_result"
    }
   ],
   "source": [
    "response[\"messages\"][-1].tool_calls[0][\"args\"][\"final_answer\"]"
   ]
  }
 ],
 "metadata": {
  "kernelspec": {
   "display_name": ".venv",
   "language": "python",
   "name": "python3"
  },
  "language_info": {
   "codemirror_mode": {
    "name": "ipython",
    "version": 3
   },
   "file_extension": ".py",
   "mimetype": "text/x-python",
   "name": "python",
   "nbconvert_exporter": "python",
   "pygments_lexer": "ipython3",
   "version": "3.11.9"
  }
 },
 "nbformat": 4,
 "nbformat_minor": 5
}
